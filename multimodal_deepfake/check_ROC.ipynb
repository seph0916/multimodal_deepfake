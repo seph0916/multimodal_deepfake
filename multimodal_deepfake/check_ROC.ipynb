{
 "cells": [
  {
   "cell_type": "code",
   "execution_count": 1,
   "metadata": {},
   "outputs": [
    {
     "name": "stderr",
     "output_type": "stream",
     "text": [
      "/home/ssu_it1/anaconda3/envs/lipsync/lib/python3.8/site-packages/tqdm/auto.py:21: TqdmWarning: IProgress not found. Please update jupyter and ipywidgets. See https://ipywidgets.readthedocs.io/en/stable/user_install.html\n",
      "  from .autonotebook import tqdm as notebook_tqdm\n"
     ]
    }
   ],
   "source": [
    "import torch\n",
    "\n",
    "import torch\n",
    "from torchvision import datasets, transforms, models\n",
    "from torch.utils.data import DataLoader,Dataset\n",
    "from model.mul import Multimodal\n",
    "\n",
    "\n",
    "from torch.utils.data import Dataset,DataLoader\n",
    "from loader.dataload_avceleb import PadDataset,MultiDataset\n",
    "from sklearn.metrics import roc_auc_score, recall_score, f1_score\n",
    "from model.MultiLoss import CustomLoss\n"
   ]
  },
  {
   "cell_type": "code",
   "execution_count": 2,
   "metadata": {},
   "outputs": [
    {
     "name": "stdout",
     "output_type": "stream",
     "text": [
      "Unexpected exception formatting exception. Falling back to standard exception\n"
     ]
    },
    {
     "name": "stderr",
     "output_type": "stream",
     "text": [
      "Traceback (most recent call last):\n",
      "  File \"/home/ssu_it1/anaconda3/envs/lipsync/lib/python3.8/site-packages/IPython/core/interactiveshell.py\", line 3505, in run_code\n",
      "    exec(code_obj, self.user_global_ns, self.user_ns)\n",
      "  File \"/tmp/ipykernel_3565969/968340287.py\", line 2, in <module>\n",
      "    model_state=torch.load(path)\n",
      "  File \"/home/ssu_it1/anaconda3/envs/lipsync/lib/python3.8/site-packages/torch/serialization.py\", line 712, in load\n",
      "    return _load(opened_zipfile, map_location, pickle_module, **pickle_load_args)\n",
      "  File \"/home/ssu_it1/anaconda3/envs/lipsync/lib/python3.8/site-packages/torch/serialization.py\", line 1046, in _load\n",
      "    result = unpickler.load()\n",
      "  File \"/home/ssu_it1/anaconda3/envs/lipsync/lib/python3.8/site-packages/torch/serialization.py\", line 1016, in persistent_load\n",
      "    load_tensor(dtype, nbytes, key, _maybe_decode_ascii(location))\n",
      "  File \"/home/ssu_it1/anaconda3/envs/lipsync/lib/python3.8/site-packages/torch/serialization.py\", line 1001, in load_tensor\n",
      "    wrap_storage=restore_location(storage, location),\n",
      "  File \"/home/ssu_it1/anaconda3/envs/lipsync/lib/python3.8/site-packages/torch/serialization.py\", line 176, in default_restore_location\n",
      "    result = fn(storage, location)\n",
      "  File \"/home/ssu_it1/anaconda3/envs/lipsync/lib/python3.8/site-packages/torch/serialization.py\", line 158, in _cuda_deserialize\n",
      "    return obj.cuda(device)\n",
      "  File \"/home/ssu_it1/anaconda3/envs/lipsync/lib/python3.8/site-packages/torch/_utils.py\", line 79, in _cuda\n",
      "    return new_type(self.size()).copy_(self, non_blocking)\n",
      "  File \"/home/ssu_it1/anaconda3/envs/lipsync/lib/python3.8/site-packages/torch/cuda/__init__.py\", line 661, in _lazy_new\n",
      "    return super(_CudaBase, cls).__new__(cls, *args, **kwargs)\n",
      "RuntimeError: CUDA out of memory. Tried to allocate 1.17 GiB (GPU 0; 23.68 GiB total capacity; 1.18 GiB already allocated; 476.81 MiB free; 1.20 GiB reserved in total by PyTorch) If reserved memory is >> allocated memory try setting max_split_size_mb to avoid fragmentation.  See documentation for Memory Management and PYTORCH_CUDA_ALLOC_CONF\n",
      "\n",
      "During handling of the above exception, another exception occurred:\n",
      "\n",
      "Traceback (most recent call last):\n",
      "  File \"/home/ssu_it1/anaconda3/envs/lipsync/lib/python3.8/site-packages/IPython/core/interactiveshell.py\", line 2102, in showtraceback\n",
      "    stb = self.InteractiveTB.structured_traceback(\n",
      "  File \"/home/ssu_it1/anaconda3/envs/lipsync/lib/python3.8/site-packages/IPython/core/ultratb.py\", line 1310, in structured_traceback\n",
      "    return FormattedTB.structured_traceback(\n",
      "  File \"/home/ssu_it1/anaconda3/envs/lipsync/lib/python3.8/site-packages/IPython/core/ultratb.py\", line 1199, in structured_traceback\n",
      "    return VerboseTB.structured_traceback(\n",
      "  File \"/home/ssu_it1/anaconda3/envs/lipsync/lib/python3.8/site-packages/IPython/core/ultratb.py\", line 1052, in structured_traceback\n",
      "    formatted_exception = self.format_exception_as_a_whole(etype, evalue, etb, number_of_lines_of_context,\n",
      "  File \"/home/ssu_it1/anaconda3/envs/lipsync/lib/python3.8/site-packages/IPython/core/ultratb.py\", line 953, in format_exception_as_a_whole\n",
      "    self.get_records(etb, number_of_lines_of_context, tb_offset) if etb else []\n",
      "  File \"/home/ssu_it1/anaconda3/envs/lipsync/lib/python3.8/site-packages/IPython/core/ultratb.py\", line 1005, in get_records\n",
      "    style = stack_data.style_with_executing_node(style, self._tb_highlight)\n",
      "  File \"/home/ssu_it1/anaconda3/envs/lipsync/lib/python3.8/site-packages/stack_data/core.py\", line 455, in style_with_executing_node\n",
      "    class NewStyle(style):\n",
      "  File \"/home/ssu_it1/anaconda3/envs/lipsync/lib/python3.8/site-packages/pygments/style.py\", line 91, in __new__\n",
      "    ndef[4] = colorformat(styledef[3:])\n",
      "  File \"/home/ssu_it1/anaconda3/envs/lipsync/lib/python3.8/site-packages/pygments/style.py\", line 58, in colorformat\n",
      "    assert False, \"wrong color format %r\" % text\n",
      "AssertionError: wrong color format 'ansiyellow'\n"
     ]
    }
   ],
   "source": [
    "path=\"/data1/josephlee/multimodal/best_model/avceleb_one_ch_best_model/2024_0326_avdata_twoloss_1ch_multimodal.pth\"\n",
    "model_state=torch.load(path)\n",
    "best_multi_model_state=model_state['best_multi_model_state_dict']\n",
    "optimizer_state=model_state['optimizer_state_dict']\n",
    "best_loss=model_state['best_loss']\n",
    "best_epoch=model_state['best_epoch']\n",
    "best_threshold=model_state['best_threshold']\n",
    "best_target=model_state['best_target']\n",
    "best_pred=model_state['best_sigmoid']"
   ]
  },
  {
   "cell_type": "code",
   "execution_count": null,
   "metadata": {},
   "outputs": [],
   "source": [
    "from sklearn.metrics import roc_curve\n",
    "import matplotlib.pyplot as plt\n",
    "\n",
    "fpr, tpr, thresholds = roc_curve(best_target, best_pred)\n",
    "plt.plot([0,1], [0,1], \"k--\", \"r+\")\n",
    "plt.plot(fpr, tpr, label='Real/Fake')\n",
    "plt.xlabel('FPR')\n",
    "plt.ylabel('TPR')\n",
    "plt.title('1ch ROC curve')\n",
    "plt.show()"
   ]
  },
  {
   "cell_type": "code",
   "execution_count": null,
   "metadata": {},
   "outputs": [],
   "source": []
  },
  {
   "cell_type": "code",
   "execution_count": null,
   "metadata": {},
   "outputs": [],
   "source": []
  }
 ],
 "metadata": {
  "kernelspec": {
   "display_name": "lipsync",
   "language": "python",
   "name": "python3"
  },
  "language_info": {
   "codemirror_mode": {
    "name": "ipython",
    "version": 3
   },
   "file_extension": ".py",
   "mimetype": "text/x-python",
   "name": "python",
   "nbconvert_exporter": "python",
   "pygments_lexer": "ipython3",
   "version": "3.8.18"
  }
 },
 "nbformat": 4,
 "nbformat_minor": 2
}
